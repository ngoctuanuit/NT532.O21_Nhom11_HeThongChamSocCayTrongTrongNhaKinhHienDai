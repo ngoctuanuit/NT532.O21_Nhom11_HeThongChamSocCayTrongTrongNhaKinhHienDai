{
 "cells": [
  {
   "cell_type": "code",
   "execution_count": 3,
   "metadata": {
    "executionInfo": {
     "elapsed": 246,
     "status": "ok",
     "timestamp": 1748512854435,
     "user": {
      "displayName": "Tuấn Đoàn Ngọc",
      "userId": "05175373728078667910"
     },
     "user_tz": -420
    },
    "id": "Ot6jCFCUtc0F"
   },
   "outputs": [],
   "source": [
    "import pandas as pd\n",
    "import boto3\n",
    "import json"
   ]
  },
  {
   "cell_type": "markdown",
   "metadata": {
    "id": "ZHFh-HmP93c5"
   },
   "source": [
    "#### Get data stored from Amazon S3"
   ]
  },
  {
   "cell_type": "code",
   "execution_count": 4,
   "metadata": {
    "executionInfo": {
     "elapsed": 3276,
     "status": "ok",
     "timestamp": 1748512857715,
     "user": {
      "displayName": "Tuấn Đoàn Ngọc",
      "userId": "05175373728078667910"
     },
     "user_tz": -420
    },
    "id": "3rUVBcrNtJP9"
   },
   "outputs": [],
   "source": [
    "aws_access_key_id = ''\n",
    "aws_secret_access_key = ''\n",
    "region_name = 'ap-southeast-1'\n",
    "\n",
    "s3 = boto3.client('s3',\n",
    "                  aws_access_key_id=aws_access_key_id,\n",
    "                  aws_secret_access_key=aws_secret_access_key,\n",
    "                  region_name=region_name)\n",
    "bucket_name = 'uitiotprocess'\n",
    "prefix = 'sensor-data/'\n",
    "\n",
    "response = s3.list_objects_v2(Bucket=bucket_name, Prefix=prefix)\n",
    "file_keys = [obj['Key'] for obj in response.get('Contents', [])]\n",
    "\n",
    "latest_file_key = file_keys[-2]\n",
    "crop_data_key = file_keys[-1]\n",
    "\n",
    "obj = s3.get_object(Bucket=bucket_name, Key=latest_file_key)\n",
    "obj_crop_data = s3.get_object(Bucket=bucket_name, Key=crop_data_key)\n",
    "\n",
    "data = json.loads(obj['Body'].read().decode('utf-8'))\n",
    "crop_data = json.loads(obj_crop_data['Body'].read().decode('utf-8'))\n",
    "\n",
    "\n",
    "# print(f\"Data trong file {latest_file_key}:\")\n",
    "# print(json.dumps(data, indent=2))\n",
    "device_id = data.get('device_id')\n",
    "timestamp = data.get('timestamp')\n",
    "temperature = data.get('temperature')\n",
    "humidity = data.get('humidity')\n",
    "rainfall = data.get('rainfall')\n",
    "n = data.get('n')\n",
    "p = data.get('p')\n",
    "k = data.get('k')\n",
    "ph = data.get('ph')\n",
    "df = pd.DataFrame(crop_data)\n",
    "\n",
    "# print(device_id, timestamp, temperature, humidity, rainfall, n, p, k, ph)"
   ]
  },
  {
   "cell_type": "markdown",
   "metadata": {
    "id": "Jtyjj2e7972e"
   },
   "source": [
    "#### Data preprocessing"
   ]
  },
  {
   "cell_type": "code",
   "execution_count": 5,
   "metadata": {
    "executionInfo": {
     "elapsed": 1494,
     "status": "ok",
     "timestamp": 1748512859207,
     "user": {
      "displayName": "Tuấn Đoàn Ngọc",
      "userId": "05175373728078667910"
     },
     "user_tz": -420
    },
    "id": "EbnX1X2rhLCV"
   },
   "outputs": [],
   "source": [
    "from sklearn.model_selection import train_test_split\n",
    "from sklearn.preprocessing import LabelEncoder, StandardScaler\n",
    "from sklearn.ensemble import RandomForestClassifier\n",
    "\n",
    "df['Sum'] = df[['N', 'P', 'K']].sum(axis=1)\n",
    "\n",
    "# Define recommended actions based on rules (example rules)\n",
    "def get_recommended_action(row):\n",
    "    if row['humidity'] < 70:\n",
    "        return 'Provide More Humidity' # Bật quạt\n",
    "    if row['rainfall'] < 150 and row['temperature'] < 25:\n",
    "        return 'Increase Watering' # Tưới nước\n",
    "    if row['N'] < 3:\n",
    "        return 'Add Fertilizer'\n",
    "    if row['P'] < 3:\n",
    "        return 'Add Phosphorus'\n",
    "\n",
    "    # if row['N'] > 4 and row['P'] > 4 and row['K'] > 4:\n",
    "    #     return 'Optimal Nutrient Levels'\n",
    "    return 'No Specific Action'\n",
    "\n",
    "\n",
    "# Apply the rules to generate recommended actions\n",
    "df['Recommended_Action'] = df.apply(get_recommended_action, axis=1)"
   ]
  },
  {
   "cell_type": "code",
   "execution_count": 6,
   "metadata": {
    "executionInfo": {
     "elapsed": 19,
     "status": "ok",
     "timestamp": 1748512859223,
     "user": {
      "displayName": "Tuấn Đoàn Ngọc",
      "userId": "05175373728078667910"
     },
     "user_tz": -420
    },
    "id": "D8xLelA4hLGI"
   },
   "outputs": [],
   "source": [
    "df.dropna(inplace=True)\n",
    "label_encoder = LabelEncoder()\n",
    "df['Recommended_Action_Encoded'] = label_encoder.fit_transform(df['Recommended_Action'])\n",
    "\n",
    "X = df[['N', 'P', 'K', 'temperature', 'humidity', 'ph', 'rainfall']]\n",
    "y = df['Recommended_Action_Encoded']"
   ]
  },
  {
   "cell_type": "markdown",
   "metadata": {
    "id": "aFawJxXB-Cme"
   },
   "source": [
    "#### Training model (Random Forest + Random SearchCV)"
   ]
  },
  {
   "cell_type": "code",
   "execution_count": 7,
   "metadata": {
    "executionInfo": {
     "elapsed": 14651,
     "status": "ok",
     "timestamp": 1748512873876,
     "user": {
      "displayName": "Tuấn Đoàn Ngọc",
      "userId": "05175373728078667910"
     },
     "user_tz": -420
    },
    "id": "ga7dIe3PhLLT"
   },
   "outputs": [],
   "source": [
    "from sklearn.metrics import accuracy_score, classification_report\n",
    "from sklearn.model_selection import RandomizedSearchCV\n",
    "import numpy as np\n",
    "import warnings\n",
    "warnings.filterwarnings(\"ignore\")\n",
    "\n",
    "X_train, X_test, y_train, y_test = train_test_split(X, y, test_size=0.2, random_state=42)\n",
    "\n",
    "param_dist = {\n",
    "    'n_estimators': [50, 100, 150],\n",
    "    'max_depth': [None, 10, 20],\n",
    "    'min_samples_split': [2, 5, 10],\n",
    "    'min_samples_leaf': [1, 2, 4]\n",
    "}\n",
    "\n",
    "clf = RandomForestClassifier()\n",
    "randomized_search = RandomizedSearchCV(\n",
    "    estimator=clf,\n",
    "    param_distributions=param_dist,\n",
    "    n_iter=10,\n",
    "    cv=3,\n",
    "    scoring='accuracy',\n",
    "    n_jobs=-1,\n",
    "    random_state=42\n",
    ")\n",
    "\n",
    "randomized_search.fit(X_train, y_train)\n",
    "best_params = randomized_search.best_params_\n",
    "# print(\"Best Hyperparameters:\", best_params)\n",
    "\n",
    "best_clf = RandomForestClassifier(**best_params)\n",
    "best_clf.fit(X_train, y_train)\n",
    "\n",
    "\n",
    "y_pred = best_clf.predict(X_test)\n",
    "accuracy = accuracy_score(y_test, y_pred)\n",
    "# print(\"RFC Accuracy:\", accuracy)\n",
    "\n",
    "labels_in_test = np.unique(y_test)\n",
    "target_names = label_encoder.inverse_transform(labels_in_test)\n",
    "\n",
    "# print(classification_report(y_test, y_pred, labels=labels_in_test, target_names=target_names, zero_division=1))"
   ]
  },
  {
   "cell_type": "code",
   "execution_count": 11,
   "metadata": {
    "colab": {
     "base_uri": "https://localhost:8080/",
     "height": 112
    },
    "executionInfo": {
     "elapsed": 172,
     "status": "ok",
     "timestamp": 1748513316549,
     "user": {
      "displayName": "Tuấn Đoàn Ngọc",
      "userId": "05175373728078667910"
     },
     "user_tz": -420
    },
    "id": "mIYkvjn0g9D5",
    "outputId": "4b994965-42c3-4409-844d-9bc62c5a4c40"
   },
   "outputs": [
    {
     "data": {
      "application/vnd.google.colaboratory.intrinsic+json": {
       "summary": "{\n  \"name\": \"df\",\n  \"rows\": 2200,\n  \"fields\": [\n    {\n      \"column\": \"N\",\n      \"properties\": {\n        \"dtype\": \"number\",\n        \"std\": 36,\n        \"min\": 0,\n        \"max\": 140,\n        \"num_unique_values\": 137,\n        \"samples\": [\n          106,\n          101,\n          88\n        ],\n        \"semantic_type\": \"\",\n        \"description\": \"\"\n      }\n    },\n    {\n      \"column\": \"P\",\n      \"properties\": {\n        \"dtype\": \"number\",\n        \"std\": 32,\n        \"min\": 5,\n        \"max\": 145,\n        \"num_unique_values\": 117,\n        \"samples\": [\n          69,\n          37,\n          11\n        ],\n        \"semantic_type\": \"\",\n        \"description\": \"\"\n      }\n    },\n    {\n      \"column\": \"K\",\n      \"properties\": {\n        \"dtype\": \"number\",\n        \"std\": 50,\n        \"min\": 5,\n        \"max\": 205,\n        \"num_unique_values\": 73,\n        \"samples\": [\n          42,\n          12,\n          15\n        ],\n        \"semantic_type\": \"\",\n        \"description\": \"\"\n      }\n    },\n    {\n      \"column\": \"temperature\",\n      \"properties\": {\n        \"dtype\": \"number\",\n        \"std\": 5.063748599958843,\n        \"min\": 8.825674745,\n        \"max\": 43.67549305,\n        \"num_unique_values\": 2200,\n        \"samples\": [\n          29.49401389,\n          26.1793464,\n          43.36051537\n        ],\n        \"semantic_type\": \"\",\n        \"description\": \"\"\n      }\n    },\n    {\n      \"column\": \"humidity\",\n      \"properties\": {\n        \"dtype\": \"number\",\n        \"std\": 22.263811589761115,\n        \"min\": 14.25803981,\n        \"max\": 99.98187601,\n        \"num_unique_values\": 2200,\n        \"samples\": [\n          94.72981338,\n          86.52258079,\n          93.35191636\n        ],\n        \"semantic_type\": \"\",\n        \"description\": \"\"\n      }\n    },\n    {\n      \"column\": \"ph\",\n      \"properties\": {\n        \"dtype\": \"number\",\n        \"std\": 0.7739376880298723,\n        \"min\": 3.504752314,\n        \"max\": 9.93509073,\n        \"num_unique_values\": 2200,\n        \"samples\": [\n          6.185053234,\n          6.25933595,\n          6.941496806\n        ],\n        \"semantic_type\": \"\",\n        \"description\": \"\"\n      }\n    },\n    {\n      \"column\": \"rainfall\",\n      \"properties\": {\n        \"dtype\": \"number\",\n        \"std\": 54.9583885248781,\n        \"min\": 20.21126747,\n        \"max\": 298.5601175,\n        \"num_unique_values\": 2200,\n        \"samples\": [\n          26.30820876,\n          49.43050977,\n          114.778071\n        ],\n        \"semantic_type\": \"\",\n        \"description\": \"\"\n      }\n    },\n    {\n      \"column\": \"label\",\n      \"properties\": {\n        \"dtype\": \"category\",\n        \"num_unique_values\": 1,\n        \"samples\": [\n          \"tomato\"\n        ],\n        \"semantic_type\": \"\",\n        \"description\": \"\"\n      }\n    },\n    {\n      \"column\": \"Sum\",\n      \"properties\": {\n        \"dtype\": \"number\",\n        \"std\": 79,\n        \"min\": 17,\n        \"max\": 385,\n        \"num_unique_values\": 293,\n        \"samples\": [\n          173\n        ],\n        \"semantic_type\": \"\",\n        \"description\": \"\"\n      }\n    },\n    {\n      \"column\": \"Recommended_Action\",\n      \"properties\": {\n        \"dtype\": \"category\",\n        \"num_unique_values\": 4,\n        \"samples\": [\n          \"Provide More Humidity\"\n        ],\n        \"semantic_type\": \"\",\n        \"description\": \"\"\n      }\n    },\n    {\n      \"column\": \"Recommended_Action_Encoded\",\n      \"properties\": {\n        \"dtype\": \"number\",\n        \"std\": 0,\n        \"min\": 0,\n        \"max\": 3,\n        \"num_unique_values\": 4,\n        \"samples\": [\n          3\n        ],\n        \"semantic_type\": \"\",\n        \"description\": \"\"\n      }\n    }\n  ]\n}",
       "type": "dataframe",
       "variable_name": "df"
      },
      "text/html": [
       "\n",
       "  <div id=\"df-ffea86ab-bef2-4b76-b279-3c4aa95a5b9c\" class=\"colab-df-container\">\n",
       "    <div>\n",
       "<style scoped>\n",
       "    .dataframe tbody tr th:only-of-type {\n",
       "        vertical-align: middle;\n",
       "    }\n",
       "\n",
       "    .dataframe tbody tr th {\n",
       "        vertical-align: top;\n",
       "    }\n",
       "\n",
       "    .dataframe thead th {\n",
       "        text-align: right;\n",
       "    }\n",
       "</style>\n",
       "<table border=\"1\" class=\"dataframe\">\n",
       "  <thead>\n",
       "    <tr style=\"text-align: right;\">\n",
       "      <th></th>\n",
       "      <th>N</th>\n",
       "      <th>P</th>\n",
       "      <th>K</th>\n",
       "      <th>temperature</th>\n",
       "      <th>humidity</th>\n",
       "      <th>ph</th>\n",
       "      <th>rainfall</th>\n",
       "      <th>label</th>\n",
       "      <th>Sum</th>\n",
       "      <th>Recommended_Action</th>\n",
       "      <th>Recommended_Action_Encoded</th>\n",
       "    </tr>\n",
       "  </thead>\n",
       "  <tbody>\n",
       "    <tr>\n",
       "      <th>0</th>\n",
       "      <td>90</td>\n",
       "      <td>42</td>\n",
       "      <td>43</td>\n",
       "      <td>20.879744</td>\n",
       "      <td>82.002744</td>\n",
       "      <td>6.502985</td>\n",
       "      <td>202.935536</td>\n",
       "      <td>tomato</td>\n",
       "      <td>175</td>\n",
       "      <td>No Specific Action</td>\n",
       "      <td>2</td>\n",
       "    </tr>\n",
       "    <tr>\n",
       "      <th>1</th>\n",
       "      <td>85</td>\n",
       "      <td>58</td>\n",
       "      <td>41</td>\n",
       "      <td>21.770462</td>\n",
       "      <td>80.319644</td>\n",
       "      <td>7.038096</td>\n",
       "      <td>226.655537</td>\n",
       "      <td>tomato</td>\n",
       "      <td>184</td>\n",
       "      <td>No Specific Action</td>\n",
       "      <td>2</td>\n",
       "    </tr>\n",
       "  </tbody>\n",
       "</table>\n",
       "</div>\n",
       "    <div class=\"colab-df-buttons\">\n",
       "\n",
       "  <div class=\"colab-df-container\">\n",
       "    <button class=\"colab-df-convert\" onclick=\"convertToInteractive('df-ffea86ab-bef2-4b76-b279-3c4aa95a5b9c')\"\n",
       "            title=\"Convert this dataframe to an interactive table.\"\n",
       "            style=\"display:none;\">\n",
       "\n",
       "  <svg xmlns=\"http://www.w3.org/2000/svg\" height=\"24px\" viewBox=\"0 -960 960 960\">\n",
       "    <path d=\"M120-120v-720h720v720H120Zm60-500h600v-160H180v160Zm220 220h160v-160H400v160Zm0 220h160v-160H400v160ZM180-400h160v-160H180v160Zm440 0h160v-160H620v160ZM180-180h160v-160H180v160Zm440 0h160v-160H620v160Z\"/>\n",
       "  </svg>\n",
       "    </button>\n",
       "\n",
       "  <style>\n",
       "    .colab-df-container {\n",
       "      display:flex;\n",
       "      gap: 12px;\n",
       "    }\n",
       "\n",
       "    .colab-df-convert {\n",
       "      background-color: #E8F0FE;\n",
       "      border: none;\n",
       "      border-radius: 50%;\n",
       "      cursor: pointer;\n",
       "      display: none;\n",
       "      fill: #1967D2;\n",
       "      height: 32px;\n",
       "      padding: 0 0 0 0;\n",
       "      width: 32px;\n",
       "    }\n",
       "\n",
       "    .colab-df-convert:hover {\n",
       "      background-color: #E2EBFA;\n",
       "      box-shadow: 0px 1px 2px rgba(60, 64, 67, 0.3), 0px 1px 3px 1px rgba(60, 64, 67, 0.15);\n",
       "      fill: #174EA6;\n",
       "    }\n",
       "\n",
       "    .colab-df-buttons div {\n",
       "      margin-bottom: 4px;\n",
       "    }\n",
       "\n",
       "    [theme=dark] .colab-df-convert {\n",
       "      background-color: #3B4455;\n",
       "      fill: #D2E3FC;\n",
       "    }\n",
       "\n",
       "    [theme=dark] .colab-df-convert:hover {\n",
       "      background-color: #434B5C;\n",
       "      box-shadow: 0px 1px 3px 1px rgba(0, 0, 0, 0.15);\n",
       "      filter: drop-shadow(0px 1px 2px rgba(0, 0, 0, 0.3));\n",
       "      fill: #FFFFFF;\n",
       "    }\n",
       "  </style>\n",
       "\n",
       "    <script>\n",
       "      const buttonEl =\n",
       "        document.querySelector('#df-ffea86ab-bef2-4b76-b279-3c4aa95a5b9c button.colab-df-convert');\n",
       "      buttonEl.style.display =\n",
       "        google.colab.kernel.accessAllowed ? 'block' : 'none';\n",
       "\n",
       "      async function convertToInteractive(key) {\n",
       "        const element = document.querySelector('#df-ffea86ab-bef2-4b76-b279-3c4aa95a5b9c');\n",
       "        const dataTable =\n",
       "          await google.colab.kernel.invokeFunction('convertToInteractive',\n",
       "                                                    [key], {});\n",
       "        if (!dataTable) return;\n",
       "\n",
       "        const docLinkHtml = 'Like what you see? Visit the ' +\n",
       "          '<a target=\"_blank\" href=https://colab.research.google.com/notebooks/data_table.ipynb>data table notebook</a>'\n",
       "          + ' to learn more about interactive tables.';\n",
       "        element.innerHTML = '';\n",
       "        dataTable['output_type'] = 'display_data';\n",
       "        await google.colab.output.renderOutput(dataTable, element);\n",
       "        const docLink = document.createElement('div');\n",
       "        docLink.innerHTML = docLinkHtml;\n",
       "        element.appendChild(docLink);\n",
       "      }\n",
       "    </script>\n",
       "  </div>\n",
       "\n",
       "\n",
       "    <div id=\"df-e7f03a4d-d923-4252-87a5-2368a8247804\">\n",
       "      <button class=\"colab-df-quickchart\" onclick=\"quickchart('df-e7f03a4d-d923-4252-87a5-2368a8247804')\"\n",
       "                title=\"Suggest charts\"\n",
       "                style=\"display:none;\">\n",
       "\n",
       "<svg xmlns=\"http://www.w3.org/2000/svg\" height=\"24px\"viewBox=\"0 0 24 24\"\n",
       "     width=\"24px\">\n",
       "    <g>\n",
       "        <path d=\"M19 3H5c-1.1 0-2 .9-2 2v14c0 1.1.9 2 2 2h14c1.1 0 2-.9 2-2V5c0-1.1-.9-2-2-2zM9 17H7v-7h2v7zm4 0h-2V7h2v10zm4 0h-2v-4h2v4z\"/>\n",
       "    </g>\n",
       "</svg>\n",
       "      </button>\n",
       "\n",
       "<style>\n",
       "  .colab-df-quickchart {\n",
       "      --bg-color: #E8F0FE;\n",
       "      --fill-color: #1967D2;\n",
       "      --hover-bg-color: #E2EBFA;\n",
       "      --hover-fill-color: #174EA6;\n",
       "      --disabled-fill-color: #AAA;\n",
       "      --disabled-bg-color: #DDD;\n",
       "  }\n",
       "\n",
       "  [theme=dark] .colab-df-quickchart {\n",
       "      --bg-color: #3B4455;\n",
       "      --fill-color: #D2E3FC;\n",
       "      --hover-bg-color: #434B5C;\n",
       "      --hover-fill-color: #FFFFFF;\n",
       "      --disabled-bg-color: #3B4455;\n",
       "      --disabled-fill-color: #666;\n",
       "  }\n",
       "\n",
       "  .colab-df-quickchart {\n",
       "    background-color: var(--bg-color);\n",
       "    border: none;\n",
       "    border-radius: 50%;\n",
       "    cursor: pointer;\n",
       "    display: none;\n",
       "    fill: var(--fill-color);\n",
       "    height: 32px;\n",
       "    padding: 0;\n",
       "    width: 32px;\n",
       "  }\n",
       "\n",
       "  .colab-df-quickchart:hover {\n",
       "    background-color: var(--hover-bg-color);\n",
       "    box-shadow: 0 1px 2px rgba(60, 64, 67, 0.3), 0 1px 3px 1px rgba(60, 64, 67, 0.15);\n",
       "    fill: var(--button-hover-fill-color);\n",
       "  }\n",
       "\n",
       "  .colab-df-quickchart-complete:disabled,\n",
       "  .colab-df-quickchart-complete:disabled:hover {\n",
       "    background-color: var(--disabled-bg-color);\n",
       "    fill: var(--disabled-fill-color);\n",
       "    box-shadow: none;\n",
       "  }\n",
       "\n",
       "  .colab-df-spinner {\n",
       "    border: 2px solid var(--fill-color);\n",
       "    border-color: transparent;\n",
       "    border-bottom-color: var(--fill-color);\n",
       "    animation:\n",
       "      spin 1s steps(1) infinite;\n",
       "  }\n",
       "\n",
       "  @keyframes spin {\n",
       "    0% {\n",
       "      border-color: transparent;\n",
       "      border-bottom-color: var(--fill-color);\n",
       "      border-left-color: var(--fill-color);\n",
       "    }\n",
       "    20% {\n",
       "      border-color: transparent;\n",
       "      border-left-color: var(--fill-color);\n",
       "      border-top-color: var(--fill-color);\n",
       "    }\n",
       "    30% {\n",
       "      border-color: transparent;\n",
       "      border-left-color: var(--fill-color);\n",
       "      border-top-color: var(--fill-color);\n",
       "      border-right-color: var(--fill-color);\n",
       "    }\n",
       "    40% {\n",
       "      border-color: transparent;\n",
       "      border-right-color: var(--fill-color);\n",
       "      border-top-color: var(--fill-color);\n",
       "    }\n",
       "    60% {\n",
       "      border-color: transparent;\n",
       "      border-right-color: var(--fill-color);\n",
       "    }\n",
       "    80% {\n",
       "      border-color: transparent;\n",
       "      border-right-color: var(--fill-color);\n",
       "      border-bottom-color: var(--fill-color);\n",
       "    }\n",
       "    90% {\n",
       "      border-color: transparent;\n",
       "      border-bottom-color: var(--fill-color);\n",
       "    }\n",
       "  }\n",
       "</style>\n",
       "\n",
       "      <script>\n",
       "        async function quickchart(key) {\n",
       "          const quickchartButtonEl =\n",
       "            document.querySelector('#' + key + ' button');\n",
       "          quickchartButtonEl.disabled = true;  // To prevent multiple clicks.\n",
       "          quickchartButtonEl.classList.add('colab-df-spinner');\n",
       "          try {\n",
       "            const charts = await google.colab.kernel.invokeFunction(\n",
       "                'suggestCharts', [key], {});\n",
       "          } catch (error) {\n",
       "            console.error('Error during call to suggestCharts:', error);\n",
       "          }\n",
       "          quickchartButtonEl.classList.remove('colab-df-spinner');\n",
       "          quickchartButtonEl.classList.add('colab-df-quickchart-complete');\n",
       "        }\n",
       "        (() => {\n",
       "          let quickchartButtonEl =\n",
       "            document.querySelector('#df-e7f03a4d-d923-4252-87a5-2368a8247804 button');\n",
       "          quickchartButtonEl.style.display =\n",
       "            google.colab.kernel.accessAllowed ? 'block' : 'none';\n",
       "        })();\n",
       "      </script>\n",
       "    </div>\n",
       "\n",
       "    </div>\n",
       "  </div>\n"
      ],
      "text/plain": [
       "    N   P   K  temperature   humidity        ph    rainfall   label  Sum  \\\n",
       "0  90  42  43    20.879744  82.002744  6.502985  202.935536  tomato  175   \n",
       "1  85  58  41    21.770462  80.319644  7.038096  226.655537  tomato  184   \n",
       "\n",
       "   Recommended_Action  Recommended_Action_Encoded  \n",
       "0  No Specific Action                           2  \n",
       "1  No Specific Action                           2  "
      ]
     },
     "execution_count": 11,
     "metadata": {},
     "output_type": "execute_result"
    }
   ],
   "source": [
    "df.head(2)"
   ]
  },
  {
   "cell_type": "markdown",
   "metadata": {
    "id": "kht-b4r4-LeH"
   },
   "source": [
    "#### Predicting label"
   ]
  },
  {
   "cell_type": "code",
   "execution_count": 15,
   "metadata": {
    "executionInfo": {
     "elapsed": 3,
     "status": "ok",
     "timestamp": 1748517378336,
     "user": {
      "displayName": "Tuấn Đoàn Ngọc",
      "userId": "05175373728078667910"
     },
     "user_tz": -420
    },
    "id": "E1mGmpGWgwNB"
   },
   "outputs": [],
   "source": [
    "# temperature = 15\n",
    "# humidity = 90\n",
    "# rainfall = 130\n",
    "# n = 80\n",
    "# p = 40\n",
    "# k = 30\n",
    "# ph = 5.8"
   ]
  },
  {
   "cell_type": "code",
   "execution_count": 16,
   "metadata": {
    "colab": {
     "base_uri": "https://localhost:8080/"
    },
    "executionInfo": {
     "elapsed": 29,
     "status": "ok",
     "timestamp": 1748517379276,
     "user": {
      "displayName": "Tuấn Đoàn Ngọc",
      "userId": "05175373728078667910"
     },
     "user_tz": -420
    },
    "id": "leBLHkDguMr0",
    "outputId": "419fd8d7-17d3-4e14-9a9b-a531eeb08d43"
   },
   "outputs": [
    {
     "name": "stdout",
     "output_type": "stream",
     "text": [
      "1\n"
     ]
    }
   ],
   "source": [
    "X_new = np.array([[n, p, k, temperature, humidity, ph, rainfall]])\n",
    "y_predict = best_clf.predict(X_new)\n",
    "encoded_label = y_predict[0]\n",
    "original_label = label_encoder.inverse_transform([encoded_label])[0]\n",
    "# print(\"Action:\", original_label)\n",
    "print(encoded_label)"
   ]
  },
  {
   "cell_type": "markdown",
   "metadata": {
    "id": "Ss3nkafK8ukR"
   },
   "source": [
    "#### Send predicted result to ThingSpeak"
   ]
  },
  {
   "cell_type": "code",
   "execution_count": 9,
   "metadata": {
    "colab": {
     "base_uri": "https://localhost:8080/"
    },
    "executionInfo": {
     "elapsed": 267,
     "status": "ok",
     "timestamp": 1748512874159,
     "user": {
      "displayName": "Tuấn Đoàn Ngọc",
      "userId": "05175373728078667910"
     },
     "user_tz": -420
    },
    "id": "9hgOKL_r7v73",
    "outputId": "60741784-7565-4a6a-ad70-08f5a5f96428"
   },
   "outputs": [
    {
     "name": "stdout",
     "output_type": "stream",
     "text": [
      "✅ Đã gửi lên ThingSpeak: 2\n"
     ]
    }
   ],
   "source": [
    "import requests\n",
    "\n",
    "write_api_key = ''\n",
    "field_number = 1\n",
    "value = encoded_label\n",
    "\n",
    "url = f'https://api.thingspeak.com/update?api_key={write_api_key}&field{field_number}={value}'\n",
    "response = requests.get(url)\n",
    "\n",
    "if response.status_code == 200:\n",
    "    print(\"✅ Đã gửi lên ThingSpeak:\", value)\n",
    "else:\n",
    "    print(\"❌ Lỗi khi gửi dữ liệu:\", response.text)"
   ]
  },
  {
   "cell_type": "code",
   "execution_count": 10,
   "metadata": {
    "colab": {
     "base_uri": "https://localhost:8080/"
    },
    "executionInfo": {
     "elapsed": 169,
     "status": "ok",
     "timestamp": 1748512874334,
     "user": {
      "displayName": "Tuấn Đoàn Ngọc",
      "userId": "05175373728078667910"
     },
     "user_tz": -420
    },
    "id": "kAmTrwOD-sqc",
    "outputId": "d1a82b3c-aa47-442e-b8a7-dabd7e630ec8"
   },
   "outputs": [
    {
     "name": "stdout",
     "output_type": "stream",
     "text": [
      "✅ Sent to ThingSpeak: 200 | Entry ID: 0\n"
     ]
    }
   ],
   "source": [
    "import requests\n",
    "\n",
    "WRITE_API_KEY_CH1 = ''\n",
    "\n",
    "action_code = encoded_label\n",
    "action_map = {\n",
    "    0: \"Add Fertilizer\",\n",
    "    1: \"Increase Watering\",\n",
    "    2: \"No Specific Action\",\n",
    "    3: \"Provide More Humidity\"\n",
    "}\n",
    "action_message = action_map.get(action_code, \"Unknown Action\")\n",
    "\n",
    "url = f\"https://api.thingspeak.com/update?api_key={WRITE_API_KEY_CH1}&field1={action_message}\"\n",
    "response = requests.get(url)\n",
    "print(f\"✅ Sent to ThingSpeak: {response.status_code} | Entry ID: {response.text}\")"
   ]
  },
  {
   "cell_type": "code",
   "execution_count": 10,
   "metadata": {
    "executionInfo": {
     "elapsed": 17,
     "status": "ok",
     "timestamp": 1748512874342,
     "user": {
      "displayName": "Tuấn Đoàn Ngọc",
      "userId": "05175373728078667910"
     },
     "user_tz": -420
    },
    "id": "t304r7f5_GcY"
   },
   "outputs": [],
   "source": []
  }
 ],
 "metadata": {
  "colab": {
   "provenance": []
  },
  "kernelspec": {
   "display_name": "Python 3 (ipykernel)",
   "language": "python",
   "name": "python3"
  },
  "language_info": {
   "codemirror_mode": {
    "name": "ipython",
    "version": 3
   },
   "file_extension": ".py",
   "mimetype": "text/x-python",
   "name": "python",
   "nbconvert_exporter": "python",
   "pygments_lexer": "ipython3",
   "version": "3.12.2"
  }
 },
 "nbformat": 4,
 "nbformat_minor": 4
}
